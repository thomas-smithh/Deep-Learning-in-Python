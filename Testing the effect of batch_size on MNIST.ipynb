{
 "cells": [
  {
   "cell_type": "code",
   "execution_count": 1,
   "metadata": {},
   "outputs": [
    {
     "data": {
      "text/html": [
       "<style>.container { width:90% !important; }</style>"
      ],
      "text/plain": [
       "<IPython.core.display.HTML object>"
      ]
     },
     "metadata": {},
     "output_type": "display_data"
    }
   ],
   "source": [
    "from IPython.core.display import display, HTML\n",
    "display(HTML(\"<style>.container { width:90% !important; }</style>\"))"
   ]
  },
  {
   "cell_type": "code",
   "execution_count": 41,
   "metadata": {},
   "outputs": [],
   "source": [
    "from keras import layers\n",
    "from keras import models\n",
    "from keras.datasets import mnist\n",
    "from keras.utils import to_categorical\n",
    "import time\n",
    "import pandas as pd\n",
    "import numpy as np\n",
    "from tqdm import tqdm_notebook as tqdm\n",
    "import matplotlib.pyplot as plt"
   ]
  },
  {
   "cell_type": "code",
   "execution_count": 53,
   "metadata": {},
   "outputs": [],
   "source": [
    "def preprocess_images(data):\n",
    "    data = data.reshape((-1, 28, 28, 1))\n",
    "    data = data.astype('float32') / 255\n",
    "    return data\n",
    "\n",
    "def fit_model(batch_size):\n",
    "    \n",
    "    model = models.Sequential()\n",
    "    model.add(layers.Conv2D(32, (3, 3), activation='relu', input_shape=(28, 28, 1)))\n",
    "    model.add(layers.MaxPooling2D((2, 2)))\n",
    "    model.add(layers.Conv2D(64, (3, 3), activation='relu'))\n",
    "    model.add(layers.MaxPooling2D((2, 2)))\n",
    "    model.add(layers.Conv2D(64, (3, 3), activation='relu'))\n",
    "    model.add(layers.Flatten())\n",
    "    model.add(layers.Dense(16, activation='relu'))\n",
    "    model.add(layers.Dense(10, activation='softmax'))\n",
    "    (train_images, train_labels), (test_images, test_labels) = mnist.load_data()\n",
    "    train_images, test_images = preprocess_images(train_images), preprocess_images(test_images)\n",
    "    train_labels = to_categorical(train_labels)\n",
    "    test_labels = to_categorical(test_labels)\n",
    "    model.compile(optimizer='rmsprop',\n",
    "              loss='categorical_crossentropy',\n",
    "              metrics=['accuracy'])\n",
    "    t1 = time.time()\n",
    "    model.fit(train_images, train_labels, epochs=5, batch_size=batch_size, verbose=0)\n",
    "    t2 = time.time()\n",
    "    evaluation = model.evaluate(test_images, test_labels, verbose=0, batch_size=batch_size)\n",
    "    \n",
    "    return t2-t1, evaluation[0], evaluation[1]\n",
    "\n",
    "def iterate_over_batch_sizes(batch_sizes):\n",
    "    time = []\n",
    "    loss = []\n",
    "    accuracy = []\n",
    "    \n",
    "    for batch_size in tqdm(batch_sizes):\n",
    "        t, l, a = fit_model(batch_size)\n",
    "        time.append(t)\n",
    "        loss.append(l)\n",
    "        accuracy.append(a)\n",
    "    \n",
    "    return pd.DataFrame(np.array([batch_sizes, time, loss, accuracy]).T, columns=['batch_sizes', 'time', 'loss', 'accuracy'])"
   ]
  },
  {
   "cell_type": "code",
   "execution_count": 54,
   "metadata": {},
   "outputs": [
    {
     "name": "stderr",
     "output_type": "stream",
     "text": [
      "<ipython-input-53-987ecc3a5775>:36: TqdmDeprecationWarning: This function will be removed in tqdm==5.0.0\n",
      "Please use `tqdm.notebook.tqdm` instead of `tqdm.tqdm_notebook`\n",
      "  for batch_size in tqdm(batch_sizes):\n"
     ]
    },
    {
     "data": {
      "application/vnd.jupyter.widget-view+json": {
       "model_id": "bdc24af69002488f9a79be6e3743194c",
       "version_major": 2,
       "version_minor": 0
      },
      "text/plain": [
       "HBox(children=(HTML(value=''), FloatProgress(value=0.0, max=6.0), HTML(value='')))"
      ]
     },
     "metadata": {},
     "output_type": "display_data"
    },
    {
     "name": "stdout",
     "output_type": "stream",
     "text": [
      "\n",
      "Wall time: 1min 30s\n"
     ]
    }
   ],
   "source": [
    "%time result = iterate_over_batch_sizes([64, 128, 256, 512, 1024, 2048])"
   ]
  },
  {
   "cell_type": "code",
   "execution_count": 56,
   "metadata": {},
   "outputs": [
    {
     "data": {
      "text/html": [
       "<div>\n",
       "<style scoped>\n",
       "    .dataframe tbody tr th:only-of-type {\n",
       "        vertical-align: middle;\n",
       "    }\n",
       "\n",
       "    .dataframe tbody tr th {\n",
       "        vertical-align: top;\n",
       "    }\n",
       "\n",
       "    .dataframe thead th {\n",
       "        text-align: right;\n",
       "    }\n",
       "</style>\n",
       "<table border=\"1\" class=\"dataframe\">\n",
       "  <thead>\n",
       "    <tr style=\"text-align: right;\">\n",
       "      <th></th>\n",
       "      <th>batch_sizes</th>\n",
       "      <th>time</th>\n",
       "      <th>loss</th>\n",
       "      <th>accuracy</th>\n",
       "    </tr>\n",
       "  </thead>\n",
       "  <tbody>\n",
       "    <tr>\n",
       "      <th>0</th>\n",
       "      <td>64.0</td>\n",
       "      <td>40.959226</td>\n",
       "      <td>0.029435</td>\n",
       "      <td>0.9908</td>\n",
       "    </tr>\n",
       "    <tr>\n",
       "      <th>1</th>\n",
       "      <td>128.0</td>\n",
       "      <td>19.943790</td>\n",
       "      <td>0.026611</td>\n",
       "      <td>0.9913</td>\n",
       "    </tr>\n",
       "    <tr>\n",
       "      <th>2</th>\n",
       "      <td>256.0</td>\n",
       "      <td>12.759860</td>\n",
       "      <td>0.029157</td>\n",
       "      <td>0.9920</td>\n",
       "    </tr>\n",
       "    <tr>\n",
       "      <th>3</th>\n",
       "      <td>512.0</td>\n",
       "      <td>5.964713</td>\n",
       "      <td>0.037059</td>\n",
       "      <td>0.9884</td>\n",
       "    </tr>\n",
       "    <tr>\n",
       "      <th>4</th>\n",
       "      <td>1024.0</td>\n",
       "      <td>3.722627</td>\n",
       "      <td>0.093728</td>\n",
       "      <td>0.9707</td>\n",
       "    </tr>\n",
       "    <tr>\n",
       "      <th>5</th>\n",
       "      <td>2048.0</td>\n",
       "      <td>3.242294</td>\n",
       "      <td>0.117399</td>\n",
       "      <td>0.9678</td>\n",
       "    </tr>\n",
       "  </tbody>\n",
       "</table>\n",
       "</div>"
      ],
      "text/plain": [
       "   batch_sizes       time      loss  accuracy\n",
       "0         64.0  40.959226  0.029435    0.9908\n",
       "1        128.0  19.943790  0.026611    0.9913\n",
       "2        256.0  12.759860  0.029157    0.9920\n",
       "3        512.0   5.964713  0.037059    0.9884\n",
       "4       1024.0   3.722627  0.093728    0.9707\n",
       "5       2048.0   3.242294  0.117399    0.9678"
      ]
     },
     "execution_count": 56,
     "metadata": {},
     "output_type": "execute_result"
    }
   ],
   "source": [
    "result"
   ]
  }
 ],
 "metadata": {
  "kernelspec": {
   "display_name": "Python 3",
   "language": "python",
   "name": "python3"
  },
  "language_info": {
   "codemirror_mode": {
    "name": "ipython",
    "version": 3
   },
   "file_extension": ".py",
   "mimetype": "text/x-python",
   "name": "python",
   "nbconvert_exporter": "python",
   "pygments_lexer": "ipython3",
   "version": "3.8.5"
  }
 },
 "nbformat": 4,
 "nbformat_minor": 4
}
